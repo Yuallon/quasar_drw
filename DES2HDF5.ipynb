{
 "cells": [
  {
   "cell_type": "code",
   "execution_count": 1,
   "metadata": {
    "collapsed": true
   },
   "outputs": [],
   "source": [
    "%matplotlib inline"
   ]
  },
  {
   "cell_type": "code",
   "execution_count": 2,
   "metadata": {
    "collapsed": true
   },
   "outputs": [],
   "source": [
    "import numpy as np\n",
    "import matplotlib.pyplot as plt\n",
    "import matplotlib"
   ]
  },
  {
   "cell_type": "code",
   "execution_count": 3,
   "metadata": {
    "collapsed": true
   },
   "outputs": [],
   "source": [
    "from quasar_drw import quasar_drw as qso_drw\n",
    "from quasar_drw import lc_generator as lc_gen\n",
    "import qso_lc_fct as qso"
   ]
  },
  {
   "cell_type": "code",
   "execution_count": null,
   "metadata": {
    "collapsed": true
   },
   "outputs": [],
   "source": []
  },
  {
   "cell_type": "code",
   "execution_count": 4,
   "metadata": {
    "collapsed": true
   },
   "outputs": [],
   "source": [
    "from astropy.io import ascii"
   ]
  },
  {
   "cell_type": "code",
   "execution_count": 5,
   "metadata": {
    "collapsed": true
   },
   "outputs": [],
   "source": [
    "import os\n",
    "import glob\n",
    "import h5py"
   ]
  },
  {
   "cell_type": "code",
   "execution_count": null,
   "metadata": {
    "collapsed": true
   },
   "outputs": [],
   "source": []
  },
  {
   "cell_type": "code",
   "execution_count": null,
   "metadata": {
    "collapsed": true
   },
   "outputs": [],
   "source": []
  },
  {
   "cell_type": "markdown",
   "metadata": {},
   "source": [
    "## Get ID list\n",
    "Use glob: need to put file in the same diretory, otherwise it returns path information as well"
   ]
  },
  {
   "cell_type": "code",
   "execution_count": 6,
   "metadata": {},
   "outputs": [
    {
     "name": "stdout",
     "output_type": "stream",
     "text": [
      "['J063957.89-432307.77', 'J064018.84-424900.38', 'J064320.82-430438.63', 'J064532.50-431756.04', 'J064908.74-424427.99']\n"
     ]
    }
   ],
   "source": [
    "name_list = glob.glob(\"J0*\")\n",
    "print(name_list)"
   ]
  },
  {
   "cell_type": "code",
   "execution_count": null,
   "metadata": {
    "collapsed": true
   },
   "outputs": [],
   "source": []
  },
  {
   "cell_type": "markdown",
   "metadata": {},
   "source": [
    "## Write to HDF5"
   ]
  },
  {
   "cell_type": "code",
   "execution_count": 7,
   "metadata": {},
   "outputs": [
    {
     "name": "stdout",
     "output_type": "stream",
     "text": [
      "['J063957.89-432307.77' 'J064018.84-424900.38' 'J064320.82-430438.63'\n",
      " 'J064532.50-431756.04' 'J064908.74-424427.99']\n"
     ]
    }
   ],
   "source": [
    "dt = h5py.special_dtype(vlen=str) \n",
    "name_list = np.array(name_list, dtype=dt)\n",
    "print(name_list)"
   ]
  },
  {
   "cell_type": "code",
   "execution_count": 8,
   "metadata": {},
   "outputs": [
    {
     "data": {
      "text/plain": [
       "<HDF5 dataset \"ID\": shape (5,), type \"|O\">"
      ]
     },
     "execution_count": 8,
     "metadata": {},
     "output_type": "execute_result"
    }
   ],
   "source": [
    "if os.path.isfile(\"DES_qso.h5\"):\n",
    "    !rm DES_qso.h5\n",
    "    \n",
    "f = h5py.File(\"DES_qso.h5\", \"w\")\n",
    "f.create_dataset(\"/ID\", data=name_list)"
   ]
  },
  {
   "cell_type": "code",
   "execution_count": 9,
   "metadata": {
    "collapsed": true
   },
   "outputs": [],
   "source": [
    "for i, name in enumerate(name_list):\n",
    "    path = str(name_list[i]) + \"/g.csv\"\n",
    "    data = ascii.read(path)\n",
    "    \n",
    "    g_mjd           = np.array(data[\"MJD_OBS\"], dtype=float)\n",
    "    g_flux_auto     = np.array(data[\"FLUX_AUTO\"], dtype=float)\n",
    "    g_flux_err_auto = np.array(data[\"FLUX_ERR_AUTO\"], dtype=float)\n",
    "    \n",
    "    f.create_dataset(str(name_list[i])+\"/g_mjd\",           data=g_mjd)\n",
    "    f.create_dataset(str(name_list[i])+\"/g_flux_auto\",     data=g_flux_auto)\n",
    "    f.create_dataset(str(name_list[i])+\"/g_flux_err_auto\", data=g_flux_err_auto)\n",
    "    "
   ]
  },
  {
   "cell_type": "code",
   "execution_count": null,
   "metadata": {
    "collapsed": true
   },
   "outputs": [],
   "source": []
  },
  {
   "cell_type": "markdown",
   "metadata": {},
   "source": [
    "## Inspect HDF5 data"
   ]
  },
  {
   "cell_type": "code",
   "execution_count": 10,
   "metadata": {
    "collapsed": true
   },
   "outputs": [],
   "source": [
    "f_read = h5py.File(\"DES_qso.h5\", \"r\")"
   ]
  },
  {
   "cell_type": "code",
   "execution_count": 11,
   "metadata": {},
   "outputs": [
    {
     "name": "stdout",
     "output_type": "stream",
     "text": [
      "ID\n",
      "J063957.89-432307.77\n",
      "J064018.84-424900.38\n",
      "J064320.82-430438.63\n",
      "J064532.50-431756.04\n",
      "J064908.74-424427.99\n"
     ]
    }
   ],
   "source": [
    "for name in f_read:\n",
    "    print(name)"
   ]
  },
  {
   "cell_type": "code",
   "execution_count": 12,
   "metadata": {},
   "outputs": [
    {
     "name": "stdout",
     "output_type": "stream",
     "text": [
      "ID\n",
      "J063957.89-432307.77\n",
      "J063957.89-432307.77/g_flux_auto\n",
      "J063957.89-432307.77/g_flux_err_auto\n",
      "J063957.89-432307.77/g_mjd\n",
      "J064018.84-424900.38\n",
      "J064018.84-424900.38/g_flux_auto\n",
      "J064018.84-424900.38/g_flux_err_auto\n",
      "J064018.84-424900.38/g_mjd\n",
      "J064320.82-430438.63\n",
      "J064320.82-430438.63/g_flux_auto\n",
      "J064320.82-430438.63/g_flux_err_auto\n",
      "J064320.82-430438.63/g_mjd\n",
      "J064532.50-431756.04\n",
      "J064532.50-431756.04/g_flux_auto\n",
      "J064532.50-431756.04/g_flux_err_auto\n",
      "J064532.50-431756.04/g_mjd\n",
      "J064908.74-424427.99\n",
      "J064908.74-424427.99/g_flux_auto\n",
      "J064908.74-424427.99/g_flux_err_auto\n",
      "J064908.74-424427.99/g_mjd\n"
     ]
    }
   ],
   "source": [
    "def printname(name):\n",
    "    print(name)\n",
    "\n",
    "f_read.visit(printname)"
   ]
  },
  {
   "cell_type": "code",
   "execution_count": null,
   "metadata": {
    "collapsed": true
   },
   "outputs": [],
   "source": []
  },
  {
   "cell_type": "markdown",
   "metadata": {},
   "source": [
    "## Read-in from HDF5"
   ]
  },
  {
   "cell_type": "code",
   "execution_count": 13,
   "metadata": {},
   "outputs": [
    {
     "name": "stdout",
     "output_type": "stream",
     "text": [
      "['J063957.89-432307.77' 'J064018.84-424900.38' 'J064320.82-430438.63'\n",
      " 'J064532.50-431756.04' 'J064908.74-424427.99']\n"
     ]
    }
   ],
   "source": [
    "ID = f_read[\"ID\"][:]\n",
    "print(ID)"
   ]
  },
  {
   "cell_type": "code",
   "execution_count": 14,
   "metadata": {
    "collapsed": true
   },
   "outputs": [],
   "source": [
    "mjd  = f_read[\"J063957.89-432307.77/g_mjd\"][:]\n",
    "flux = f_read[\"J063957.89-432307.77/g_mjd\"][:]"
   ]
  },
  {
   "cell_type": "code",
   "execution_count": 15,
   "metadata": {},
   "outputs": [
    {
     "name": "stdout",
     "output_type": "stream",
     "text": [
      "[ 56520.1846236  56520.2055066  56520.2223636  56534.1543065  56538.1607714\n",
      "  56578.9989836  56609.0398133  56615.0811593  56650.0486865  56657.0451006\n",
      "  56667.0591772  56675.0713019  56877.1790132  56903.1067038  56912.0826296\n",
      "  56920.0612533  56924.1413494  56930.1139305  56953.0307348  56961.0089414\n",
      "  56990.029041   57025.0434686  57037.0602884  57051.0360736  57252.2287837\n",
      "  57257.2115776  57344.0339955  57355.1418184  57372.0311643  57386.0419067\n",
      "  57407.0415411  57614.2211698  57623.2081044  57627.3498881  57629.2031291\n",
      "  57645.0737151  57657.1949693  57661.0656794  57670.9938664  57682.0028383\n",
      "  57701.0260283  57708.0496601  57718.0283077  57719.0290575  57723.1161597\n",
      "  57730.0391813  57740.0435626  57747.0431549  57759.0633547  57772.0395932\n",
      "  57780.0370207]\n"
     ]
    }
   ],
   "source": [
    "print(mjd)"
   ]
  },
  {
   "cell_type": "code",
   "execution_count": null,
   "metadata": {
    "collapsed": true
   },
   "outputs": [],
   "source": []
  },
  {
   "cell_type": "code",
   "execution_count": null,
   "metadata": {
    "collapsed": true
   },
   "outputs": [],
   "source": []
  },
  {
   "cell_type": "code",
   "execution_count": null,
   "metadata": {
    "collapsed": true
   },
   "outputs": [],
   "source": []
  },
  {
   "cell_type": "code",
   "execution_count": 16,
   "metadata": {
    "collapsed": true
   },
   "outputs": [],
   "source": [
    "font = {'weight' : 'bold',\n",
    "        'size'   : 13}\n",
    "matplotlib.rc('font', **font)"
   ]
  },
  {
   "cell_type": "markdown",
   "metadata": {},
   "source": [
    "## Read, process and plot  // using quasar_drw object"
   ]
  },
  {
   "cell_type": "code",
   "execution_count": 17,
   "metadata": {
    "scrolled": false
   },
   "outputs": [
    {
     "data": {
      "image/png": "[encoded data removed]",
      "text/plain": [
       "<matplotlib.figure.Figure at 0x1c152d2d30>"
      ]
     },
     "metadata": {},
     "output_type": "display_data"
    },
    {
     "data": {
      "image/png": "[encoded data removed]",
      "text/plain": [
       "<matplotlib.figure.Figure at 0x1c152d2a58>"
      ]
     },
     "metadata": {},
     "output_type": "display_data"
    },
    {
     "data": {
      "image/png": "[encoded data removed]",
      "text/plain": [
       "<matplotlib.figure.Figure at 0x1c15330518>"
      ]
     },
     "metadata": {},
     "output_type": "display_data"
    },
    {
     "data": {
      "image/png": "[encoded data removed]",
      "text/plain": [
       "<matplotlib.figure.Figure at 0x1c153bc898>"
      ]
     },
     "metadata": {},
     "output_type": "display_data"
    },
    {
     "data": {
      "image/png": "[encoded data removed]",
      "text/plain": [
       "<matplotlib.figure.Figure at 0x1c1d8be588>"
      ]
     },
     "metadata": {},
     "output_type": "display_data"
    }
   ],
   "source": [
    "for i, name in enumerate(ID):\n",
    "    mjd        = f_read[ID[i]+\"/g_mjd\"][:]\n",
    "    flux       = f_read[ID[i]+\"/g_flux_auto\"][:]\n",
    "    flux_error = f_read[ID[i]+\"/g_flux_err_auto\"][:]\n",
    "    redshift   = 0.01\n",
    "    \n",
    "    lc = qso_drw(mjd, flux, flux_error, redshift, preprocess=False)\n",
    "    lc.flux2mag()\n",
    "    time, signal, error = lc.get_lc()\n",
    "    \n",
    "    \n",
    "    ## plot \n",
    "    plt.figure(figsize=(7,4))\n",
    "    #plt.scatter(time, signal, color='k')\n",
    "    plt.errorbar(time, signal, yerr=error/2, fmt=\".k\", lw=1)\n",
    "    plt.title(ID[i])\n",
    "    \n",
    "    #plt.savefig(\"./plot/\"+str(ID[i])+\".png\")\n",
    "    #plt.close()"
   ]
  },
  {
   "cell_type": "code",
   "execution_count": null,
   "metadata": {
    "collapsed": true
   },
   "outputs": [],
   "source": []
  }
 ],
 "metadata": {
  "kernelspec": {
   "display_name": "Python 3",
   "language": "python",
   "name": "python3"
  },
  "language_info": {
   "codemirror_mode": {
    "name": "ipython",
    "version": 3
   },
   "file_extension": ".py",
   "mimetype": "text/x-python",
   "name": "python",
   "nbconvert_exporter": "python",
   "pygments_lexer": "ipython3",
   "version": "3.6.3"
  }
 },
 "nbformat": 4,
 "nbformat_minor": 2
}
